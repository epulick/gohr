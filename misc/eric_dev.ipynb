{
 "cells": [
  {
   "cell_type": "code",
   "execution_count": null,
   "metadata": {},
   "outputs": [],
   "source": [
    "# Miscellaneous testing for Eric - others please do not edit - git doesn't play nice with jupyter notebooks"
   ]
  },
  {
   "cell_type": "code",
   "execution_count": null,
   "metadata": {},
   "outputs": [],
   "source": [
    "import numpy as np\n",
    "import pandas as pd\n",
    "import matplotlib.pyplot as plt\n",
    "from matplotlib.gridspec import GridSpec\n",
    "import seaborn as sns\n",
    "import os, sys\n",
    "import torch\n",
    "import optuna"
   ]
  },
  {
   "cell_type": "code",
   "execution_count": null,
   "metadata": {},
   "outputs": [],
   "source": [
    "\n",
    "path = \"../active/outputs/test/move_data.csv\"\n",
    "results = pd.read_csv(path,index_col=0)\n",
    "results[\"cumulative_reward\"] = results.reward.cumsum()\n",
    "fig = plt.figure(constrained_layout=False,figsize=(13,6))\n",
    "ax=sns.lineplot(data=results,x=results.index, y = \"cumulative_reward\")\n",
    "ax2 = plt.twinx()\n",
    "sns.lineplot(data=results.epsilon, color=\"b\", ax=ax2)\n",
    "\n",
    "path2 = \"../active/outputs/test/episode_data.csv\"\n",
    "episode_results = pd.read_csv(path2,index_col=0)\n",
    "fig2 = plt.figure(constrained_layout=False,figsize=(13,6))\n",
    "ax3 = sns.lineplot(data=episode_results,x=episode_results.index, y = episode_results.rolling(10).mean().reward)\n",
    "\n",
    "path3 = \"../active/outputs/test/loss_data.csv\"\n",
    "loss_results = pd.read_csv(path3,index_col=0)\n",
    "fig3 = plt.figure(constrained_layout=False,figsize=(13,6))\n",
    "ax4 = sns.lineplot(data=loss_results,x=loss_results.index, y = loss_results.loss)"
   ]
  },
  {
   "cell_type": "code",
   "execution_count": null,
   "metadata": {},
   "outputs": [],
   "source": [
    "# Multi run results\n",
    "#path = \"../active/outputs/test/other_clockwiseTwoFree\"\n",
    "path = \"../active/outputs/test/other_clockwiseTwoFreeAlt\"\n",
    "#path = \"../active/outputs/test/other_clockwiseZeroStart\"\n",
    "#path = \"../active/outputs/test/other_1_1_shape_4m\"\n",
    "#path = \"../active/outputs/test/other_1_2_shape_4m\"\n",
    "\n",
    "fig = plt.figure(constrained_layout=False,figsize=(13,6))\n",
    "for i in np.arange(0,1):\n",
    "    run_path = path + \"/\"+str(i)+\"/episode_data.csv\"\n",
    "    episode_results = pd.read_csv(run_path,index_col=0)\n",
    "    sns.lineplot(data=episode_results,x=episode_results.index, y = episode_results.rolling(1).mean().reward)\n",
    "fig2= plt.figure(constrained_layout=False,figsize=(13,6))\n",
    "for i in np.arange(0,1):\n",
    "    run_path = path + \"/\"+str(i)+\"/move_data.csv\"\n",
    "    results = pd.read_csv(run_path,index_col=0)\n",
    "    results[\"cumulative_reward\"] = results.reward.cumsum()\n",
    "    sns.lineplot(data=results,x=results.index, y = \"cumulative_reward\")"
   ]
  },
  {
   "cell_type": "code",
   "execution_count": null,
   "metadata": {},
   "outputs": [],
   "source": [
    "from optuna.visualization import plot_contour\n",
    "from optuna.visualization import plot_edf\n",
    "from optuna.visualization import plot_intermediate_values\n",
    "from optuna.visualization import plot_optimization_history\n",
    "from optuna.visualization import plot_parallel_coordinate\n",
    "from optuna.visualization import plot_param_importances\n",
    "from optuna.visualization import plot_slice"
   ]
  },
  {
   "cell_type": "code",
   "execution_count": null,
   "metadata": {},
   "outputs": [],
   "source": [
    "study_name = \"naive_n8_Rule_001_8reps\"\n",
    "storage_name = \"sqlite:///../active/outputs/tuning/{}.db\".format(study_name)\n",
    "study = optuna.study.load_study(study_name=study_name,storage=storage_name)"
   ]
  },
  {
   "cell_type": "code",
   "execution_count": null,
   "metadata": {},
   "outputs": [],
   "source": [
    "study.best_params"
   ]
  },
  {
   "cell_type": "code",
   "execution_count": null,
   "metadata": {},
   "outputs": [],
   "source": [
    "plot_optimization_history(study)"
   ]
  },
  {
   "cell_type": "code",
   "execution_count": null,
   "metadata": {},
   "outputs": [],
   "source": [
    "plot_parallel_coordinate(study)"
   ]
  },
  {
   "cell_type": "code",
   "execution_count": null,
   "metadata": {},
   "outputs": [],
   "source": [
    "plot_contour(study)"
   ]
  },
  {
   "cell_type": "code",
   "execution_count": null,
   "metadata": {},
   "outputs": [],
   "source": [
    "#import lightgbm as lgb\n",
    "import numpy as np\n",
    "import sklearn.datasets\n",
    "import sklearn.metrics\n",
    "from sklearn.model_selection import train_test_split\n"
   ]
  },
  {
   "cell_type": "code",
   "execution_count": null,
   "metadata": {},
   "outputs": [],
   "source": [
    "plot_param_importances(study)"
   ]
  },
  {
   "cell_type": "code",
   "execution_count": null,
   "metadata": {},
   "outputs": [],
   "source": [
    "#print(np.ravel_multi_index((o_row,o_col,b_index),(6,6,4)))\n",
    "print(np.unravel_index(72, (6,6,4)))"
   ]
  },
  {
   "cell_type": "code",
   "execution_count": null,
   "metadata": {},
   "outputs": [],
   "source": [
    "path_2 = \"/Users/eric/repos/gohr/active/outputs/rule_runs/initial_run_n2\"\n",
    "path_4 = \"/Users/eric/repos/gohr/active/outputs/rule_runs/initial_run_n4\"\n",
    "path_6 = \"/Users/eric/repos/gohr/active/outputs/rule_runs/initial_run_n6\"\n",
    "path_8 = \"/Users/eric/repos/gohr/active/outputs/rule_runs/initial_run_n8\"\n",
    "results =[{\"path\":path_2,\"df\":None,\"steps\":2},\n",
    "            {\"path\":path_4,\"df\":None,\"steps\":4},\n",
    "            {\"path\":path_6,\"df\":None,\"steps\":6},\n",
    "            {\"path\":path_8,\"df\":None,\"steps\":8}]\n",
    "rules = [name for name in os.listdir(path) if name!=\".DS_Store\"]\n",
    "\n",
    "for j in range(0,len(results)):\n",
    "    path = results[j][\"path\"]\n",
    "    results_list = []\n",
    "    for rule in rules:\n",
    "        rule_path = path+\"/\"+rule\n",
    "        rule_name = rule[6:]\n",
    "        #print(rule_name)\n",
    "        #print(run_path)\n",
    "        for i in np.arange(0,8):\n",
    "            trial_path = rule_path + \"/\"+str(i)+\"/episode_data.csv\"\n",
    "            #print(trial_path)\n",
    "            episode_results = pd.read_csv(trial_path,index_col=0)\n",
    "            episode_results[\"rule\"]=rule_name\n",
    "            episode_results[\"trial\"]=i\n",
    "            episode_results[\"ep_error\"]=-1*episode_results[\"reward\"]\n",
    "            episode_results[\"cumulative_error\"] = episode_results.ep_error.cumsum()\n",
    "            results_list.append(episode_results)\n",
    "    results_df = pd.concat(results_list,ignore_index=True)\n",
    "    results[j][\"df\"]=results_df"
   ]
  },
  {
   "cell_type": "code",
   "execution_count": null,
   "metadata": {},
   "outputs": [],
   "source": [
    "rules = [name for name in os.listdir(path) if name!=\".DS_Store\"]\n",
    "print(rules)\n",
    "count_steps = len(results)\n",
    "\n",
    "complete_list = results_df.rule.unique()\n",
    "rules_list = [{\"name\":\"all_rules\",\"rules\":complete_list,\"y\":[0,3000]},\n",
    "                {\"name\":\"shape_rules\",\"rules\":[\"1_1_shape_4m\",\"1_2_shape_4m\", \"1_1_shape_3m_cua\"],\"y\":[0,3000]}, \n",
    "                {\"name\":\"clockwise_rules\",\"rules\":[\"clockwiseZeroStart\",\"clockwiseTwoFree\",\"clockwiseTwoFreeAlt\"],\"y\":[0,1000]},\n",
    "                {\"name\":\"quadrant_rules\",\"rules\":[\"quadrantNearby\",\"quadrantNearbyTwoFree\"],\"y\":[0,400]},\n",
    "                {\"name\":\"color_rules\",\"rules\":[\"1_1_color_4m\",\"1_2_color_4m\",\"1_1_color_3m_cua\"],\"y\":[0,3000]},\n",
    "                {\"name\":\"bottom_top_rules\",\"rules\":[\"bottom_then_top\",\"bottomLeft_then_topRight\"],\"y\":[0,500]}]\n"
   ]
  },
  {
   "cell_type": "code",
   "execution_count": null,
   "metadata": {},
   "outputs": [],
   "source": [
    "\n",
    "fig = plt.figure(figsize=(20,35))\n",
    "gs = GridSpec(nrows = len(rules_list),ncols=count_steps)\n",
    "\n",
    "for j in range(0,len(results)):\n",
    "    results_df = results[j][\"df\"]\n",
    "    step = results[j][\"steps\"]\n",
    "    for i in range(len(rules_list)):\n",
    "        sub_dict = rules_list[i]\n",
    "        sub_list = sub_dict[\"rules\"]\n",
    "        name = sub_dict[\"name\"]\n",
    "        ax = fig.add_subplot(gs[i,j])\n",
    "        ax=sns.lineplot(data=results_df.query(\"rule in @sub_list\"),y=\"cumulative_error\",x=\"episode\",ci=95,estimator=np.median,n_boot=100,hue=\"rule\")\n",
    "        ax.set_title(name+\" with {} steps of memory\".format(str(step)))\n",
    "        ax.set_ylim(sub_dict[\"y\"])\n",
    "        if i>0:\n",
    "            ax.legend(loc=\"lower right\")\n",
    "        else:\n",
    "            ax.legend('',frameon=False)"
   ]
  },
  {
   "cell_type": "code",
   "execution_count": null,
   "metadata": {},
   "outputs": [],
   "source": [
    "fig = plt.figure(figsize=(20,35))\n",
    "gs = GridSpec(nrows = len(rules_list),ncols=count_steps)\n",
    "\n",
    "for j in range(0,len(results)):\n",
    "    results_df = results[j][\"df\"]\n",
    "    step = results[j][\"steps\"]\n",
    "    for i in range(len(rules_list)):\n",
    "        sub_dict = rules_list[i]\n",
    "        sub_list = sub_dict[\"rules\"]\n",
    "        name = sub_dict[\"name\"]\n",
    "        ax = fig.add_subplot(gs[i,j])\n",
    "        ax=sns.lineplot(data=results_df.query(\"rule in @sub_list\"),y=\"cumulative_error\",x=\"episode\",units=\"trial\",estimator=None,hue=\"rule\")\n",
    "        ax.set_title(name+\" with {} steps of memory\".format(str(step)))\n",
    "        ax.set_ylim(sub_dict[\"y\"])\n",
    "        if i>0:\n",
    "            ax.legend(loc=\"lower right\")\n",
    "        else:\n",
    "            ax.legend('',frameon=False)\n"
   ]
  }
 ],
 "metadata": {
  "kernelspec": {
   "display_name": "Python 3.10.4 64-bit",
   "language": "python",
   "name": "python3"
  },
  "language_info": {
   "codemirror_mode": {
    "name": "ipython",
    "version": 3
   },
   "file_extension": ".py",
   "mimetype": "text/x-python",
   "name": "python",
   "nbconvert_exporter": "python",
   "pygments_lexer": "ipython3",
   "version": "3.10.4"
  },
  "orig_nbformat": 4,
  "vscode": {
   "interpreter": {
    "hash": "aee8b7b246df8f9039afb4144a1f6fd8d2ca17a180786b69acc140d282b71a49"
   }
  }
 },
 "nbformat": 4,
 "nbformat_minor": 2
}
