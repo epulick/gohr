{
 "cells": [
  {
   "cell_type": "code",
   "execution_count": null,
   "metadata": {},
   "outputs": [],
   "source": [
    "# Miscellaneous testing for Eric - others please do not edit - git doesn't play nice with jupyter notebooks"
   ]
  },
  {
   "cell_type": "code",
   "execution_count": null,
   "metadata": {},
   "outputs": [],
   "source": [
    "import numpy as np\n",
    "import pandas as pd\n",
    "import matplotlib.pyplot as plt\n",
    "import seaborn as sns\n",
    "import torch\n",
    "import optuna"
   ]
  },
  {
   "cell_type": "code",
   "execution_count": null,
   "metadata": {},
   "outputs": [],
   "source": [
    "\n",
    "path = \"../active/outputs/test/move_data.csv\"\n",
    "results = pd.read_csv(path,index_col=0)\n",
    "results[\"cumulative_reward\"] = results.reward.cumsum()\n",
    "fig = plt.figure(constrained_layout=False,figsize=(13,6))\n",
    "ax=sns.lineplot(data=results,x=results.index, y = \"cumulative_reward\")\n",
    "ax2 = plt.twinx()\n",
    "sns.lineplot(data=results.epsilon, color=\"b\", ax=ax2)\n",
    "\n",
    "path2 = \"../active/outputs/test/episode_data.csv\"\n",
    "episode_results = pd.read_csv(path2,index_col=0)\n",
    "fig2 = plt.figure(constrained_layout=False,figsize=(13,6))\n",
    "ax3 = sns.lineplot(data=episode_results,x=episode_results.index, y = episode_results.rolling(10).mean().reward)\n",
    "\n",
    "path3 = \"../active/outputs/test/loss_data.csv\"\n",
    "loss_results = pd.read_csv(path3,index_col=0)\n",
    "fig3 = plt.figure(constrained_layout=False,figsize=(13,6))\n",
    "ax4 = sns.lineplot(data=loss_results,x=loss_results.index, y = loss_results.loss)"
   ]
  },
  {
   "cell_type": "code",
   "execution_count": null,
   "metadata": {},
   "outputs": [],
   "source": [
    "# Multi run results\n",
    "path = \"../active/outputs/tuning/other_Rule-002\"\n",
    "\n",
    "fig = plt.figure(constrained_layout=False,figsize=(13,6))\n",
    "for i in np.arange(0,8):\n",
    "    run_path = path + \"/\"+str(i)+\"/episode_data.csv\"\n",
    "    episode_results = pd.read_csv(run_path,index_col=0)\n",
    "    sns.lineplot(data=episode_results,x=episode_results.index, y = episode_results.rolling(25).mean().reward)\n",
    "fig2= plt.figure(constrained_layout=False,figsize=(13,6))\n",
    "for i in np.arange(0,4):\n",
    "    run_path = path + \"/\"+str(i)+\"/move_data.csv\"\n",
    "    results = pd.read_csv(run_path,index_col=0)\n",
    "    results[\"cumulative_reward\"] = results.reward.cumsum()\n",
    "    sns.lineplot(data=results,x=results.index, y = \"cumulative_reward\")"
   ]
  },
  {
   "cell_type": "code",
   "execution_count": null,
   "metadata": {},
   "outputs": [],
   "source": [
    "from optuna.visualization import plot_contour\n",
    "from optuna.visualization import plot_edf\n",
    "from optuna.visualization import plot_intermediate_values\n",
    "from optuna.visualization import plot_optimization_history\n",
    "from optuna.visualization import plot_parallel_coordinate\n",
    "from optuna.visualization import plot_param_importances\n",
    "from optuna.visualization import plot_slice"
   ]
  },
  {
   "cell_type": "code",
   "execution_count": null,
   "metadata": {},
   "outputs": [],
   "source": [
    "study_name = \"naive_board_rule_002_adam_8reps\"\n",
    "storage_name = \"sqlite:///../active/outputs/tuning/{}.db\".format(study_name)\n",
    "study = optuna.study.load_study(study_name=study_name,storage=storage_name)"
   ]
  },
  {
   "cell_type": "code",
   "execution_count": null,
   "metadata": {},
   "outputs": [],
   "source": [
    "study.best_params"
   ]
  },
  {
   "cell_type": "code",
   "execution_count": null,
   "metadata": {},
   "outputs": [],
   "source": [
    "plot_optimization_history(study)"
   ]
  },
  {
   "cell_type": "code",
   "execution_count": null,
   "metadata": {},
   "outputs": [],
   "source": [
    "plot_parallel_coordinate(study)"
   ]
  },
  {
   "cell_type": "code",
   "execution_count": null,
   "metadata": {},
   "outputs": [],
   "source": [
    "plot_contour(study)"
   ]
  },
  {
   "cell_type": "code",
   "execution_count": null,
   "metadata": {},
   "outputs": [],
   "source": [
    "#import lightgbm as lgb\n",
    "import numpy as np\n",
    "import sklearn.datasets\n",
    "import sklearn.metrics\n",
    "from sklearn.model_selection import train_test_split\n"
   ]
  },
  {
   "cell_type": "code",
   "execution_count": null,
   "metadata": {},
   "outputs": [],
   "source": [
    "plot_param_importances(study)"
   ]
  }
 ],
 "metadata": {
  "kernelspec": {
   "display_name": "Python 3.10.4 64-bit",
   "language": "python",
   "name": "python3"
  },
  "language_info": {
   "codemirror_mode": {
    "name": "ipython",
    "version": 3
   },
   "file_extension": ".py",
   "mimetype": "text/x-python",
   "name": "python",
   "nbconvert_exporter": "python",
   "pygments_lexer": "ipython3",
   "version": "3.10.4"
  },
  "orig_nbformat": 4,
  "vscode": {
   "interpreter": {
    "hash": "aee8b7b246df8f9039afb4144a1f6fd8d2ca17a180786b69acc140d282b71a49"
   }
  }
 },
 "nbformat": 4,
 "nbformat_minor": 2
}
