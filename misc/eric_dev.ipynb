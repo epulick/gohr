{
 "cells": [
  {
   "cell_type": "code",
   "execution_count": null,
   "metadata": {},
   "outputs": [],
   "source": [
    "# Miscellaneous testing for Eric - others please do not edit - git doesn't play nice with jupyter notebooks"
   ]
  },
  {
   "cell_type": "code",
   "execution_count": 2,
   "metadata": {},
   "outputs": [],
   "source": [
    "import numpy as np\n",
    "import pandas as pd\n",
    "import matplotlib.pyplot as plt\n",
    "from matplotlib.gridspec import GridSpec\n",
    "import seaborn as sns\n",
    "import os, sys\n",
    "import torch\n",
    "import optuna\n",
    "import ruamel.yaml as yaml\n",
    "import re"
   ]
  },
  {
   "cell_type": "code",
   "execution_count": null,
   "metadata": {},
   "outputs": [],
   "source": [
    "\n",
    "path = \"../active/outputs/test/move_data.csv\"\n",
    "results = pd.read_csv(path,index_col=0)\n",
    "results[\"cumulative_reward\"] = results.reward.cumsum()\n",
    "fig = plt.figure(constrained_layout=False,figsize=(13,6))\n",
    "ax=sns.lineplot(data=results,x=results.index, y = \"cumulative_reward\")\n",
    "ax2 = plt.twinx()\n",
    "sns.lineplot(data=results.epsilon, color=\"b\", ax=ax2)\n",
    "\n",
    "path2 = \"../active/outputs/test/episode_data.csv\"\n",
    "episode_results = pd.read_csv(path2,index_col=0)\n",
    "fig2 = plt.figure(constrained_layout=False,figsize=(13,6))\n",
    "ax3 = sns.lineplot(data=episode_results,x=episode_results.index, y = episode_results.rolling(10).mean().reward)\n",
    "\n",
    "path3 = \"../active/outputs/test/loss_data.csv\"\n",
    "loss_results = pd.read_csv(path3,index_col=0)\n",
    "fig3 = plt.figure(constrained_layout=False,figsize=(13,6))\n",
    "ax4 = sns.lineplot(data=loss_results,x=loss_results.index, y = loss_results.loss)"
   ]
  },
  {
   "cell_type": "code",
   "execution_count": null,
   "metadata": {},
   "outputs": [],
   "source": [
    "# Multi run results\n",
    "#path = \"../active/outputs/test/other_clockwiseTwoFree\"\n",
    "#path = \"../active/outputs/test/other_clockwiseTwoFreeAlt\"\n",
    "#path = \"../active/outputs/test/other_clockwiseZeroStart\"\n",
    "#path = \"../active/outputs/test/other_1_1_shape_4m\"\n",
    "path = \"../active/outputs/test/other_1_2_shape_4m\"\n",
    "\n",
    "fig = plt.figure(constrained_layout=False,figsize=(13,6))\n",
    "for i in np.arange(0,8):\n",
    "    run_path = path + \"/\"+str(i)+\"/episode_data.csv\"\n",
    "    episode_results = pd.read_csv(run_path,index_col=0)\n",
    "    sns.lineplot(data=episode_results,x=episode_results.index, y = episode_results.rolling(10).mean().reward)\n",
    "fig2= plt.figure(constrained_layout=False,figsize=(13,6))\n",
    "for i in np.arange(0,8):\n",
    "    run_path = path + \"/\"+str(i)+\"/move_data.csv\"\n",
    "    results = pd.read_csv(run_path,index_col=0)\n",
    "    results[\"cumulative_reward\"] = results.reward.cumsum()\n",
    "    sns.lineplot(data=results,x=results.index, y = \"cumulative_reward\")"
   ]
  },
  {
   "cell_type": "code",
   "execution_count": null,
   "metadata": {},
   "outputs": [],
   "source": [
    "from optuna.visualization import plot_contour\n",
    "from optuna.visualization import plot_edf\n",
    "from optuna.visualization import plot_intermediate_values\n",
    "from optuna.visualization import plot_optimization_history\n",
    "from optuna.visualization import plot_parallel_coordinate\n",
    "from optuna.visualization import plot_param_importances\n",
    "from optuna.visualization import plot_slice"
   ]
  },
  {
   "cell_type": "code",
   "execution_count": null,
   "metadata": {},
   "outputs": [],
   "source": [
    "study_name = \"naive_n8_Rule_001_8reps\"\n",
    "storage_name = \"sqlite:///../active/outputs/tuning/{}.db\".format(study_name)\n",
    "study = optuna.study.load_study(study_name=study_name,storage=storage_name)"
   ]
  },
  {
   "cell_type": "code",
   "execution_count": null,
   "metadata": {},
   "outputs": [],
   "source": [
    "study.best_params"
   ]
  },
  {
   "cell_type": "code",
   "execution_count": null,
   "metadata": {},
   "outputs": [],
   "source": [
    "plot_optimization_history(study)"
   ]
  },
  {
   "cell_type": "code",
   "execution_count": null,
   "metadata": {},
   "outputs": [],
   "source": [
    "plot_parallel_coordinate(study)"
   ]
  },
  {
   "cell_type": "code",
   "execution_count": null,
   "metadata": {},
   "outputs": [],
   "source": [
    "plot_contour(study)"
   ]
  },
  {
   "cell_type": "code",
   "execution_count": null,
   "metadata": {},
   "outputs": [],
   "source": [
    "#import lightgbm as lgb\n",
    "import numpy as np\n",
    "import sklearn.datasets\n",
    "import sklearn.metrics\n",
    "from sklearn.model_selection import train_test_split\n"
   ]
  },
  {
   "cell_type": "code",
   "execution_count": null,
   "metadata": {},
   "outputs": [],
   "source": [
    "plot_param_importances(study)"
   ]
  },
  {
   "cell_type": "code",
   "execution_count": null,
   "metadata": {},
   "outputs": [],
   "source": [
    "#print(np.ravel_multi_index((o_row,o_col,b_index),(6,6,4)))\n",
    "print(np.unravel_index(72, (6,6,4)))"
   ]
  },
  {
   "cell_type": "code",
   "execution_count": null,
   "metadata": {},
   "outputs": [],
   "source": [
    "class SafeLoaderIgnoreUnknown(yaml.SafeLoader):\n",
    "    def ignore_unknown(self, node):\n",
    "        return None \n",
    "\n",
    "SafeLoaderIgnoreUnknown.add_constructor(None, SafeLoaderIgnoreUnknown.ignore_unknown)"
   ]
  },
  {
   "cell_type": "code",
   "execution_count": null,
   "metadata": {},
   "outputs": [],
   "source": [
    "# Location of rule runs\n",
    "rule_runs_path = \"/Users/eric/repos/gohr/active/outputs/rule_runs/\"\n",
    "runs_to_analyze = [\"initial_run_n2\",\"initial_run_n4\",\"initial_run_n6\",\"initial_run_n8\"]\n",
    "#runs_to_analyze = [\"initial_run_naive_n2\",\"initial_run_naive_n4\",\"initial_run_naive_n6\",\"initial_run_naive_n8\",\"naive_bs_as_n2\",\"naive_bs_as_n4\",\"naive_bs_as_n6\",\"naive_bs_as_n8\"]\n",
    "#runs_to_analyze = [\"debug_initial_run_n6\"]\n",
    "#runs_to_analyze = [\"misc_initial_run_naive_sparse_n2\",\"misc_initial_run_naive_dense_n2\",\"initial_run_n8\",\"initial_run_naive_n8\"]\n",
    "#runs_to_analyze=[\"initial_run_n8\",\"initial_run_naive_n8\"]\n",
    "#loader = yaml.SafeLoader\n",
    "# loader.add_implicit_resolver(\n",
    "# u'tag:yaml.org,2002:float',\n",
    "# re.compile(u'''^(?:\n",
    "#     [-+]?(?:[0-9][0-9_]*)\\\\.[0-9_]*(?:[eE][-+]?[0-9]+)?\n",
    "# |[-+]?(?:[0-9][0-9_]*)(?:[eE][-+]?[0-9]+)\n",
    "# |\\\\.[0-9_]+(?:[eE][-+][0-9]+)?\n",
    "# |[-+]?[0-9][0-9_]*(?::[0-5]?[0-9])+\\\\.[0-9_]*\n",
    "# |[-+]?\\\\.(?:inf|Inf|INF)\n",
    "# |\\\\.(?:nan|NaN|NAN))$''', re.X),\n",
    "# list(u'-+0123456789.'))\n",
    "\n",
    "# Create lists that will hold dataframes for concatenation\n",
    "episode_df_list = []\n",
    "move_df_list = []\n",
    "terminal_results_list = []\n",
    "\n",
    "# Loop over the specified rule runs\n",
    "for run in runs_to_analyze:\n",
    "    #print(run)\n",
    "    # Form complete run path\n",
    "    run_path = rule_runs_path+run\n",
    "    #print(run_path)\n",
    "    # Get the experiments for that run (each one is a set of trials for a particular rule)\n",
    "    experiments = [name for name in os.listdir(run_path) if name!=\".DS_Store\"]\n",
    "    #print(experiments)\n",
    "    # Loop over the experiments\n",
    "    for experiment in experiments:\n",
    "        # Get the neptune id\n",
    "        neptune_trial = experiment.split(\"_\")[0]\n",
    "        # String length may vary\n",
    "        trial_str_length = len(neptune_trial)\n",
    "        # Rule is everything after the neptune id and an _ character\n",
    "        rule_name = experiment[trial_str_length+1:]\n",
    "        #print(neptune_trial)\n",
    "        #print(rule_name)\n",
    "        # For complete experiment path\n",
    "        experiment_path = os.path.join(run_path,experiment)\n",
    "        #print(experiment_path)\n",
    "        trials = [name for name in os.listdir(experiment_path) if name!=\".DS_Store\"]\n",
    "        if not(len(trials)==56):\n",
    "            print(run, experiment, len(trials))\n",
    "        #print(trials)\n",
    "        for trial in trials:\n",
    "            trial_path = os.path.join(experiment_path,trial)\n",
    "            # Get parameters\n",
    "            yaml_path = os.path.join(trial_path,\"data.yaml\")\n",
    "            with open(yaml_path, 'r') as param_file:\n",
    "                args = yaml.load(param_file, Loader=SafeLoaderIgnoreUnknown)\n",
    "                featurization =args[\"FEATURIZATION\"]\n",
    "            # Import episodic data and process relevant columns\n",
    "            episodic_data_path = os.path.join(trial_path,\"episode_data.csv\")\n",
    "            #move_data_path = os.path.join(trial_path,\"move_data.csv\")\n",
    "            trial_results = pd.read_csv(episodic_data_path,index_col=0)\n",
    "            #move_results = pd.read_csv(move_data_path,index_col=0,usecols=['episode','time','reward'])\n",
    "            # Episode processing\n",
    "            trial_results[\"rule\"]=rule_name\n",
    "            trial_results[\"params\"]=run\n",
    "            trial_results[\"memory\"]=int(run[-1])\n",
    "            trial_results[\"experiment_id\"]=neptune_trial\n",
    "            trial_results[\"trial\"]=trial\n",
    "            trial_results[\"featurization\"]=featurization\n",
    "            trial_results[\"ep_error\"]=-1*trial_results[\"reward\"]\n",
    "            trial_results[\"cumulative_error\"] = trial_results.ep_error.cumsum()\n",
    "            terminal_results_list.append(trial_results.iloc[-1].to_frame().transpose())\n",
    "            test_ser = trial_results.iloc[-1]\n",
    "            episode_df_list.append(trial_results)\n",
    "            # # Move processing\n",
    "            # move_results['rule']=rule_name\n",
    "            # move_results['params']=run\n",
    "            # move_results['memory']=int(run[-1])\n",
    "            # #move_results['experiment_id']=neptune_trial\n",
    "            # move_results['trial']=trial\n",
    "            # move_results['move'] = \n",
    "\n",
    "# Concatenate everything into one dataframe\n",
    "episode_results_df = pd.concat(episode_df_list,ignore_index=True)\n",
    "terminal_results_df = pd.concat(terminal_results_list,ignore_index=True)"
   ]
  },
  {
   "cell_type": "code",
   "execution_count": null,
   "metadata": {},
   "outputs": [],
   "source": [
    "np.unravel_index(0, (6,6,4))"
   ]
  },
  {
   "cell_type": "code",
   "execution_count": null,
   "metadata": {},
   "outputs": [],
   "source": [
    "move_results_df.head()"
   ]
  },
  {
   "cell_type": "code",
   "execution_count": null,
   "metadata": {},
   "outputs": [],
   "source": [
    "test = \"\"\"4148793254 4288201859 2473703529 1428861611 2831548506 3943176004\n",
    " 3347237162  608173320 2950202257 3897940168 3194499763 1614902153\n",
    "  813528617  329083533 2616487268 1823984054 1658298428 2599382809\n",
    " 1070468359  742683208  234982630 2509808768 1163232148 2479987916\n",
    " 1938492685  900298918 3290149243 3212845959  784673452 1327206278\n",
    " 2907579944 1619867360 3659720024 1416800317  743350924 3567967713\n",
    " 1039809454  885371085 2193164054 1740190550 1677789792 1401485263\n",
    " 1232891735 2005854254 2993479418 3838304243 1891956710 2916818526\n",
    " 2801912702 2722489994 2567908538 1986337836  900093547 4220839722\n",
    "  302012116 4107991468\"\"\"\n",
    "test_vec = test.split()\n",
    "print(test_vec)"
   ]
  },
  {
   "cell_type": "code",
   "execution_count": null,
   "metadata": {},
   "outputs": [],
   "source": [
    "episode_results_df.head()"
   ]
  },
  {
   "cell_type": "code",
   "execution_count": null,
   "metadata": {},
   "outputs": [],
   "source": [
    "episode_results_df.to_csv(\"naive_and_sparse_episodic_data.csv\")"
   ]
  },
  {
   "cell_type": "code",
   "execution_count": null,
   "metadata": {},
   "outputs": [],
   "source": [
    "test_df = pd.DataFrame(test_ser).transpose()\n",
    "test_df.head()"
   ]
  },
  {
   "cell_type": "code",
   "execution_count": null,
   "metadata": {},
   "outputs": [],
   "source": [
    "for i in range(len(rules_list)):\n",
    "    sub_dict = rules_list[i]\n",
    "    sub_list = sub_dict[\"rules\"]\n",
    "    name = sub_dict[\"name\"]\n",
    "    fig=plt.figure(figsize=(6*len(sub_list),6))\n",
    "    g=sns.FacetGrid(data=terminal_results_df.query(\"rule in @sub_list\"),col=\"featurization\")\n",
    "    g.map(sns.boxplot,\"rule\",\"cumulative_error\",hue=terminal_results_df.query(\"rule in @sub_list\")[\"memory\"],color=\"memory\")\n",
    "    fig.show()"
   ]
  },
  {
   "cell_type": "code",
   "execution_count": null,
   "metadata": {},
   "outputs": [],
   "source": [
    "complete_list = episode_results_df.rule.unique()\n",
    "rules_list = [{\"name\":\"all_rules\",\"rules\":complete_list,\"y\":[0,4000]},\n",
    "                {\"name\":\"shape_rules\",\"rules\":[\"1_1_shape_4m\",\"1_1_shape_3m_cua\",\"1_2_shape_4m\"],\"y\":[0,2500]},\n",
    "                {\"name\":\"color_rules\",\"rules\":[\"1_1_color_4m\",\"1_1_color_3m_cua\",\"1_2_color_4m\"],\"y\":[0,2500]}, \n",
    "                {\"name\":\"clockwise_rules\",\"rules\":[\"clockwiseZeroStart\",\"clockwiseTwoFreeAlt\",\"clockwiseTwoFree\"],\"y\":[0,4000]},\n",
    "                {\"name\":\"quadrant_rules\",\"rules\":[\"quadrantNearby\",\"quadrantNearbyTwoFree\"],\"y\":[0,400]},\n",
    "                {\"name\":\"bottom_top_rules\",\"rules\":[\"bottomLeft_then_topRight\",\"bottom_then_top\"],\"y\":[0,1500]}]\n",
    "\n",
    "# complete_list = episode_results_df.rule.unique()\n",
    "# rules_list = [{\"name\":\"all_rules\",\"rules\":complete_list,\"y\":[0,5000]},\n",
    "#                 {\"name\":\"shape_rules\",\"rules\":[\"1_1_shape_4m\",\"1_1_shape_3m_cua\",\"1_2_shape_4m\"],\"y\":[0,3500]},\n",
    "#                 {\"name\":\"color_rules\",\"rules\":[\"1_1_color_4m\",\"1_1_color_3m_cua\",\"1_2_color_4m\"],\"y\":[0,3500]}, \n",
    "#                 {\"name\":\"clockwise_rules\",\"rules\":[\"clockwiseZeroStart\",\"clockwiseTwoFreeAlt\",\"clockwiseTwoFree\"],\"y\":[0,4000]},\n",
    "#                 {\"name\":\"quadrant_rules\",\"rules\":[\"quadrantNearby\",\"quadrantNearbyTwoFree\"],\"y\":[0,600]},\n",
    "#                 {\"name\":\"bottom_top_rules\",\"rules\":[\"bottomLeft_then_topRight\",\"bottom_then_top\",\"topRight_then_bottomLeft\",\"topLeft_then_bottomRight\"],\"y\":[0,2500]}]\n",
    "#complete_list = episode_results_df.rule.unique()\n",
    "#rules_list = [{\"name\":\"shape_rules\",\"rules\":[\"1_1_shape_4m\"],\"y\":[0,3000]}]\n",
    "#complete_list = episode_results_df.rule.unique()\n",
    "#rules_list = [{\"name\":\"all_rules\",\"rules\":complete_list,\"y\":[0,10000]},\n",
    "#                {\"name\":\"clockwise_rules\",\"rules\":[\"clockwiseTwoFree\"],\"y\":[0,10000]}]"
   ]
  },
  {
   "cell_type": "code",
   "execution_count": null,
   "metadata": {},
   "outputs": [],
   "source": [
    "terminal_results_df.replace(to_replace={'1_1_shape_4m':'SM','1_2_shape_4m':'SM2O','1_1_shape_3m_cua':'SM1F','clockwiseZeroStart':'C','clockwiseTwoFreeAlt':'CAF','clockwiseTwoFree':'C2F'},inplace=True)\n",
    "\n",
    "episode_results_df.replace(to_replace={'1_1_shape_4m':'SM','1_2_shape_4m':'SM2O','1_1_shape_3m_cua':'SM1F','clockwiseZeroStart':'C','clockwiseTwoFreeAlt':'CAF','clockwiseTwoFree':'C2F'},inplace=True)\n",
    "\n",
    "rules_list = [\n",
    "    {\"name\":\"shape_rules\",\"rules\":[\"SM\",\"SM1F\",\"SM2O\"],\"y\":[0,3500]},\n",
    "    {\"name\":\"clockwise_rules\",\"rules\":[\"C\",\"CAF\",\"C2F\"],\"y\":[0,4000]}\n",
    "]\n",
    "rules_list = ['SM','SM1F','SM2O','C','CAF','C2F']"
   ]
  },
  {
   "cell_type": "code",
   "execution_count": null,
   "metadata": {},
   "outputs": [],
   "source": [
    "sns.set(font_scale=2.5)\n",
    "sns.set_style(\"whitegrid\")\n",
    "import matplotlib.gridspec as gridspec\n",
    "df1 = episode_results_df.query(\"rule in @rules_list and featurization=='NAIVE_N_DENSE' and memory==6\")\n",
    "df2 = terminal_results_df.query(\"rule in @rules_list and featurization=='NAIVE_N_DENSE' and memory==6\")\n",
    "#df2 = terminal_results_df.query(\"rule in @rules_list[1]['rules'] and featurization=='NAIVE_N_DENSE' and memory==6\")\n",
    "# create grid for different subplots\n",
    "#fig = plt.Figure(figsize=(20,10))\n",
    "#spec = gridspec.GridSpec(ncols=2, nrows=1,\n",
    "#                         width_ratios=[2, 1], wspace=0.5,\n",
    "#                         hspace=0.5, sharey=True)\n",
    "\n",
    "fig, (ax1,ax2) = plt.subplots(1,2,figsize=(23,13),sharey=True,gridspec_kw={'width_ratios': [1.5, 1],'wspace':0,'hspace':0})\n",
    "#ax=sns.ecdfplot(data=df1,x=\"cumulative_error\",hue=\"rule\",hue_order=rules_list)\n",
    "#ax = sns.lineplot(data=df1,x=\"cumulative_error\",y=\"rule\",order=rules_list)\n",
    "sns.lineplot(data=df1,ax=ax1,y=\"cumulative_error\",x=\"episode\",hue=\"rule\", errorbar=(\"ci\",95),estimator=np.median,n_boot=100,hue_order=rules_list,legend=False,linewidth=2)\n",
    "sns.boxplot(data=df2,ax=ax2,y=\"cumulative_error\",x=\"rule\",order=rules_list)\n",
    "ax2.legend(loc='center left', bbox_to_anchor=(1, 0.5))\n",
    "ax2.set_ylabel(\"\")\n",
    "ax1.set_xlabel('Episode')\n",
    "ax2.set_xlabel('Rule')\n",
    "ax1.set_ylabel(\"Cumulated Errors\")\n",
    "ax1.set_xticks([0,500,1000,1500,2000])\n",
    "ax2.set_xticklabels(rules_list)\n",
    "#ax.set_ylim(0,1.1)\n",
    "#ax.set_xlabel(\"Cumulative Errors over 2000 Episodes\")\n",
    "#ax.legend(loc='center left', bbox_to_anchor=(1, 0.5))\n",
    "fig.align_xlabels()\n",
    "plt.tight_layout()\n",
    "plt.savefig('ml_combined.png',dpi=300,facecolor='w')"
   ]
  },
  {
   "cell_type": "code",
   "execution_count": null,
   "metadata": {},
   "outputs": [],
   "source": [
    "# Mann Whitney Testing\n",
    "from scipy.stats import mannwhitneyu\n",
    "mw_df = terminal_results_df.query(\"rule in @rules_list and featurization=='NAIVE_N_DENSE' and memory==6\").copy()\n"
   ]
  },
  {
   "cell_type": "code",
   "execution_count": null,
   "metadata": {},
   "outputs": [],
   "source": [
    "rule1 = \"C\"\n",
    "rule2 = \"C2F\"\n",
    "data1=mw_df.query(\"rule == @rule1\")[\"cumulative_error\"].to_numpy()\n",
    "data2=mw_df.query(\"rule == @rule2\")[\"cumulative_error\"].to_numpy()\n",
    "u,p_u = mannwhitneyu(data1,data2, method=\"asymptotic\",alternative=\"greater\")\n",
    "print(len(data1),len(data2))\n",
    "print(u,p_u)\n"
   ]
  },
  {
   "cell_type": "code",
   "execution_count": null,
   "metadata": {},
   "outputs": [],
   "source": [
    "# Create a figure grid\n",
    "# fig = plt.figure(figsize=(30,35))\n",
    "# gs = GridSpec(nrows = len(rules_list),ncols=1)\n",
    "steps=[2,4,6,8]\n",
    "\n",
    "for i in range(len(rules_list)):\n",
    "    sub_dict = rules_list[i]\n",
    "    sub_list = sub_dict[\"rules\"]\n",
    "    name = sub_dict[\"name\"]\n",
    "    df1 = terminal_results_df.query(\"rule in @sub_list and featurization=='NAIVE_N'\")\n",
    "    df2 = terminal_results_df.query(\"rule in @sub_list and featurization=='NAIVE_N_BS_AS'\")\n",
    "    #df2 = terminal_results_df.query(\"rule in @sub_list and featurization=='NAIVE_N_DENSE'\")\n",
    "    fig,(ax1,ax2) = plt.subplots(1,2,figsize=(8*len(sub_list),8),sharey=True)\n",
    "    sns.boxplot(data=df1,ax=ax1,y=\"cumulative_error\",x=\"rule\",hue=\"memory\",order=sub_list,hue_order=steps)\n",
    "    ax1.set_title('NAIVE_N')\n",
    "    sns.boxplot(data=df2,ax=ax2,y=\"cumulative_error\",x=\"rule\",hue=\"memory\",order=sub_list,hue_order=steps)\n",
    "    #ax2.set_title('NAIVE_N_DENSE')\n",
    "    ax2.set_title('NAIVE_N_BS_AS')\n",
    "    fig.suptitle(name)\n",
    "    #plt.figure(figsize=(3*len(sub_list),5))\n",
    "    #g=sns.FacetGrid(data=terminal_results_df.query(\"rule in @sub_list\"),col=\"featurization\")\n",
    "    #g.map(sns.boxplot,\"rule\",\"cumulative_error\")\n",
    "    #sns.boxplot(data=terminal_results_df.query(\"rule in @sub_list\"),y=\"cumulative_error\",x=\"rule\",hue=\"memory\")\n",
    "    #fig.show()"
   ]
  },
  {
   "cell_type": "code",
   "execution_count": null,
   "metadata": {},
   "outputs": [],
   "source": [
    "# Create a figure grid\n",
    "fig = plt.figure(figsize=(30,35))\n",
    "steps = [2,4,6,8]\n",
    "#fig = plt.figure(figsize=(5,10))\n",
    "#steps=[2]\n",
    "gs = GridSpec(nrows = len(rules_list),ncols=len(steps))\n",
    "\n",
    "for idx,step in enumerate(steps):\n",
    "    results_df = episode_results_df[episode_results_df.memory==step]\n",
    "    for i in range(len(rules_list)):\n",
    "        sub_dict = rules_list[i]\n",
    "        sub_list = sub_dict[\"rules\"]\n",
    "        name = sub_dict[\"name\"]\n",
    "        ax = fig.add_subplot(gs[i,idx])\n",
    "        if not(step==8):\n",
    "            ax=sns.lineplot(data=results_df.query(\"rule in @sub_list\"),y=\"cumulative_error\",x=\"episode\", errorbar=(\"ci\",95),estimator=np.median,n_boot=10,hue=\"rule\",hue_order=sub_list,style=\"featurization\",style_order=[\"NAIVE_N\",\"NAIVE_N_BS_AS\"],legend=False)\n",
    "        else:\n",
    "            ax=sns.lineplot(data=results_df.query(\"rule in @sub_list\"),y=\"cumulative_error\",x=\"episode\", errorbar=(\"ci\",95),estimator=np.median,n_boot=10,hue=\"rule\",hue_order=sub_list,style=\"featurization\",style_order=[\"NAIVE_N\",\"NAIVE_N_BS_AS\"])\n",
    "            ax.legend(loc='center left', bbox_to_anchor=(1, 0.5))\n",
    "        ax.set_title(name+\" with {} steps of memory\".format(str(step)))\n",
    "        ax.set_ylim(sub_dict[\"y\"])"
   ]
  },
  {
   "cell_type": "code",
   "execution_count": null,
   "metadata": {},
   "outputs": [],
   "source": [
    "episode_results_df[\"trial\"]=episode_results_df[\"trial\"].astype(\"int64\")\n",
    "#print(type(test.cumulative_error))\n",
    "# Create a figure grid\n",
    "fig = plt.figure(figsize=(30,35))\n",
    "steps = [2,4,6,8]\n",
    "#fig = plt.figure(figsize=(5,10))\n",
    "#steps=[2]\n",
    "gs = GridSpec(nrows = len(rules_list),ncols=len(steps))\n",
    "\n",
    "for idx,step in enumerate(steps):\n",
    "    results_df = episode_results_df[episode_results_df.memory==step]\n",
    "    for i in range(len(rules_list)):\n",
    "        sub_dict = rules_list[i]\n",
    "        sub_list = sub_dict[\"rules\"]\n",
    "        name = sub_dict[\"name\"]\n",
    "        ax = fig.add_subplot(gs[i,idx])\n",
    "        if not(step==8):\n",
    "            ax=sns.lineplot(data=results_df.query(\"rule in @sub_list\"),linewidth=1,units=\"trial\",y=\"cumulative_error\",x=\"episode\",estimator=None,hue=\"rule\",hue_order=sub_list,style=\"featurization\",style_order=[\"NAIVE_N\",\"NAIVE_N_BS_AS\"],legend=False)\n",
    "        else:\n",
    "            ax=sns.lineplot(data=results_df.query(\"rule in @sub_list\"),linewidth=1,units=\"trial\",y=\"cumulative_error\",x=\"episode\",estimator=None,hue=\"rule\",hue_order=sub_list,style=\"featurization\",style_order=[\"NAIVE_N\",\"NAIVE_N_BS_AS\"])\n",
    "            ax.legend(loc='center left', bbox_to_anchor=(1, 0.5))\n",
    "        ax.set_title(name+\" with {} steps of memory\".format(str(step)))\n",
    "        ax.set_ylim(sub_dict[\"y\"])"
   ]
  },
  {
   "cell_type": "code",
   "execution_count": null,
   "metadata": {},
   "outputs": [],
   "source": [
    "debug_df = episode_results_df[episode_results_df.rule==\"1_1_color_3m_cua\"].copy()\n",
    "debug_df = debug_df[debug_df.memory==6]\n",
    "debug_df.head()"
   ]
  },
  {
   "cell_type": "code",
   "execution_count": null,
   "metadata": {},
   "outputs": [],
   "source": [
    "debug_df.loc[debug_df.cumulative_error.idxmax()]"
   ]
  },
  {
   "cell_type": "code",
   "execution_count": null,
   "metadata": {},
   "outputs": [],
   "source": [
    "debug_df_run = debug_df[debug_df.trial==30].copy()\n",
    "debug_df_run.to_csv(\"debugging_run.csv\")"
   ]
  },
  {
   "cell_type": "code",
   "execution_count": null,
   "metadata": {},
   "outputs": [],
   "source": [
    "# Create a figure grid\n",
    "fig = plt.figure(figsize=(7,10))\n",
    "steps = [8]\n",
    "#fig = plt.figure(figsize=(5,10))\n",
    "#steps=[2]\n",
    "gs = GridSpec(nrows = len(rules_list),ncols=len(steps))\n",
    "\n",
    "for idx,step in enumerate(steps):\n",
    "    results_df = episode_results_df[episode_results_df.memory==step]\n",
    "    for i in range(len(rules_list)):\n",
    "        sub_dict = rules_list[i]\n",
    "        sub_list = sub_dict[\"rules\"]\n",
    "        name = sub_dict[\"name\"]\n",
    "        ax = fig.add_subplot(gs[i,idx])\n",
    "        if not(step==8):\n",
    "            ax=sns.lineplot(data=results_df.query(\"rule in @sub_list\"),y=\"cumulative_error\",x=\"episode\",hue=\"featurization\",estimator=None,hue_order=[\"NAIVE_N\",\"NAIVE_N_DENSE\"],legend=False)\n",
    "        else:\n",
    "            ax=sns.lineplot(data=results_df.query(\"rule in @sub_list\"),y=\"cumulative_error\",x=\"episode\",hue=\"featurization\",estimator=None,hue_order=[\"NAIVE_N\",\"NAIVE_N_DENSE\"])\n",
    "            ax.legend(loc='center left', bbox_to_anchor=(1, 0.5))\n",
    "        ax.set_title(name+\" with {} steps of memory\".format(str(step)))\n",
    "        ax.set_ylim(sub_dict[\"y\"])"
   ]
  },
  {
   "cell_type": "code",
   "execution_count": null,
   "metadata": {},
   "outputs": [],
   "source": []
  }
 ],
 "metadata": {
  "kernelspec": {
   "display_name": "Python 3.10.4 64-bit",
   "language": "python",
   "name": "python3"
  },
  "language_info": {
   "codemirror_mode": {
    "name": "ipython",
    "version": 3
   },
   "file_extension": ".py",
   "mimetype": "text/x-python",
   "name": "python",
   "nbconvert_exporter": "python",
   "pygments_lexer": "ipython3",
   "version": "3.10.4 (v3.10.4:9d38120e33, Mar 23 2022, 17:29:05) [Clang 13.0.0 (clang-1300.0.29.30)]"
  },
  "orig_nbformat": 4,
  "vscode": {
   "interpreter": {
    "hash": "aee8b7b246df8f9039afb4144a1f6fd8d2ca17a180786b69acc140d282b71a49"
   }
  }
 },
 "nbformat": 4,
 "nbformat_minor": 2
}
